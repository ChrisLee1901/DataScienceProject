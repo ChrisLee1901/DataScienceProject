{
 "cells": [
  {
   "cell_type": "markdown",
   "id": "fafe99e3-af99-4cad-ab54-e74e4d04545b",
   "metadata": {},
   "source": [
    "# Data Science Tools and Ecosystem"
   ]
  },
  {
   "cell_type": "markdown",
   "id": "5415069f-cf98-4618-ad87-1a5ad77557e2",
   "metadata": {},
   "source": [
    "## Introduction\n",
    "In this notebook, Data Science Tools and Ecosystem are summarized.\n"
   ]
  },
  {
   "cell_type": "markdown",
   "id": "e5412b55-7899-404d-b832-26de5cb79461",
   "metadata": {},
   "source": [
    "### Data Science Languages\n",
    "1. Python\n",
    "2. R\n",
    "3. SQL\n"
   ]
  },
  {
   "cell_type": "markdown",
   "id": "142001c9-8985-44e6-ab98-b4e545fcef88",
   "metadata": {},
   "source": [
    "### Data Science Libraries\n",
    "1. Pandas\n",
    "2. NumPy\n",
    "3. Matplotlib\n"
   ]
  },
  {
   "cell_type": "markdown",
   "id": "04d14252-6a95-4aaa-9096-6a8a802da30c",
   "metadata": {},
   "source": [
    "### Data Science Tools\n",
    "| Tool              |\n",
    "|-------------------|\n",
    "| Jupyter Notebook |\n",
    "| RStudio           |\n",
    "| TensorFlow       |\n"
   ]
  },
  {
   "cell_type": "markdown",
   "id": "abbcf18e-86b5-4b2b-8a6e-e647b7f6560a",
   "metadata": {},
   "source": [
    "### Arithmetic Expression Examples\n",
    "Below are a few examples of evaluating arithmetic expressions in Python.\n"
   ]
  },
  {
   "cell_type": "code",
   "execution_count": 1,
   "id": "912d520f-6840-4c65-8c31-5f8646b58474",
   "metadata": {},
   "outputs": [
    {
     "data": {
      "text/plain": [
       "17"
      ]
     },
     "execution_count": 1,
     "metadata": {},
     "output_type": "execute_result"
    }
   ],
   "source": [
    "# This is a simple arithmetic expression to multiply then add integers.\n",
    "result = (3 * 4) + 5\n",
    "result"
   ]
  },
  {
   "cell_type": "code",
   "execution_count": 2,
   "id": "6f0e84ce-a77b-4da0-bb1b-16296e4edc8a",
   "metadata": {},
   "outputs": [
    {
     "data": {
      "text/plain": [
       "3.3333333333333335"
      ]
     },
     "execution_count": 2,
     "metadata": {},
     "output_type": "execute_result"
    }
   ],
   "source": [
    "# This will convert 200 minutes to hours by diving by 60.\n",
    "hours = 200 / 60\n",
    "hours\n"
   ]
  },
  {
   "cell_type": "markdown",
   "id": "08473cdf-4976-4b67-86fe-875041cb0511",
   "metadata": {},
   "source": [
    "### Objectives:\n",
    "- List popular languages for Data Science\n",
    "- Mention commonly used libraries in Data Science\n",
    "- Provide an overview of Data Science tools\n"
   ]
  },
  {
   "cell_type": "markdown",
   "id": "1fdc0ee3-6df4-455a-98de-8c712ac605b0",
   "metadata": {},
   "source": [
    "## Author\n",
    "Lakshmi Holla"
   ]
  },
  {
   "cell_type": "code",
   "execution_count": null,
   "id": "39758269-ca2f-4157-aa61-426f823870e4",
   "metadata": {},
   "outputs": [],
   "source": []
  }
 ],
 "metadata": {
  "kernelspec": {
   "display_name": "Python 3 (ipykernel)",
   "language": "python",
   "name": "python3"
  },
  "language_info": {
   "codemirror_mode": {
    "name": "ipython",
    "version": 3
   },
   "file_extension": ".py",
   "mimetype": "text/x-python",
   "name": "python",
   "nbconvert_exporter": "python",
   "pygments_lexer": "ipython3",
   "version": "3.11.5"
  }
 },
 "nbformat": 4,
 "nbformat_minor": 5
}
